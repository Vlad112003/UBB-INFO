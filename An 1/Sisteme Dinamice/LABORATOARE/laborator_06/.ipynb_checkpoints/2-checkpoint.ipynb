{
 "cells": [
  {
   "cell_type": "code",
   "execution_count": 1,
   "metadata": {},
   "outputs": [
    {
     "data": {
      "text/html": [
       "<html><script type=\"math/tex; mode=display\">\\newcommand{\\Bold}[1]{\\mathbf{#1}}x \\frac{\\partial}{\\partial x}y\\left(x\\right) = m x^{2} + y\\left(x\\right)</script></html>"
      ],
      "text/plain": [
       "x*diff(y(x), x) == m*x^2 + y(x)"
      ]
     },
     "metadata": {},
     "output_type": "display_data"
    }
   ],
   "source": [
    "#1\n",
    "x, m = var('x, m')\n",
    "y = function('y')(x)\n",
    "eqd = x*diff(y, x) == m*x^2+y\n",
    "show(eqd)"
   ]
  },
  {
   "cell_type": "code",
   "execution_count": 2,
   "metadata": {},
   "outputs": [
    {
     "data": {
      "text/html": [
       "<html><script type=\"math/tex; mode=display\">\\newcommand{\\Bold}[1]{\\mathbf{#1}}{\\left(m x + C\\right)} x</script></html>"
      ],
      "text/plain": [
       "(m*x + _C)*x"
      ]
     },
     "metadata": {},
     "output_type": "display_data"
    }
   ],
   "source": [
    "#a\n",
    "#determin solutia generala\n",
    "sol_implicit = desolve(eqd, [y, x])\n",
    "show(sol_implicit)"
   ]
  },
  {
   "cell_type": "code",
   "execution_count": 3,
   "metadata": {},
   "outputs": [
    {
     "data": {
      "text/html": [
       "<html><script type=\"math/tex; mode=display\">\\newcommand{\\Bold}[1]{\\mathbf{#1}}m x^{2} - {\\left(m - 2\\right)} x</script></html>"
      ],
      "text/plain": [
       "m*x^2 - (m - 2)*x"
      ]
     },
     "metadata": {},
     "output_type": "display_data"
    }
   ],
   "source": [
    "#b\n",
    "#adaug a doua ecuatie\n",
    "sol_implicit(x) = desolve(eqd, [y, x], ics = [1, 2])\n",
    "show(sol_implicit(x))"
   ]
  },
  {
   "cell_type": "code",
   "execution_count": 7,
   "metadata": {},
   "outputs": [
    {
     "data": {
      "text/html": [
       "<html><script type=\"math/tex; mode=display\">\\newcommand{\\Bold}[1]{\\mathbf{#1}}6 \\, m + 6 = 1</script></html>"
      ],
      "text/plain": [
       "6*m + 6 == 1"
      ]
     },
     "metadata": {},
     "output_type": "display_data"
    }
   ],
   "source": [
    "#adaug conditia cu punctul\n",
    "second = sol_implicit(3) == 1\n",
    "show(second)"
   ]
  },
  {
   "cell_type": "code",
   "execution_count": 8,
   "metadata": {},
   "outputs": [
    {
     "data": {
      "text/html": [
       "<html><script type=\"math/tex; mode=display\">\\newcommand{\\Bold}[1]{\\mathbf{#1}}\\left[m = \\left(-\\frac{5}{6}\\right)\\right]</script></html>"
      ],
      "text/plain": [
       "[m == (-5/6)]"
      ]
     },
     "metadata": {},
     "output_type": "display_data"
    }
   ],
   "source": [
    "#aflu m\n",
    "rez=solve(second,m)\n",
    "show(rez)"
   ]
  },
  {
   "cell_type": "code",
   "execution_count": 9,
   "metadata": {},
   "outputs": [],
   "source": [
    "#cum determin x???"
   ]
  },
  {
   "cell_type": "code",
   "execution_count": 10,
   "metadata": {},
   "outputs": [
    {
     "data": {
      "text/html": [
       "<html><script type=\"math/tex; mode=display\">\\newcommand{\\Bold}[1]{\\mathbf{#1}}x^{2} \\frac{\\partial^{2}}{(\\partial x)^{2}}y\\left(x\\right) - 2 \\, x \\frac{\\partial}{\\partial x}y\\left(x\\right) + 2 \\, y\\left(x\\right) = 0</script></html>"
      ],
      "text/plain": [
       "x^2*diff(y(x), x, x) - 2*x*diff(y(x), x) + 2*y(x) == 0"
      ]
     },
     "metadata": {},
     "output_type": "display_data"
    }
   ],
   "source": [
    "#2\n",
    "x = var('x')\n",
    "y = function('y')(x)\n",
    "eqd = diff(y, x, 2)*x^2-2*x*diff(y,x)+2*y == 0\n",
    "show(eqd)"
   ]
  },
  {
   "cell_type": "code",
   "execution_count": 11,
   "metadata": {},
   "outputs": [
    {
     "data": {
      "text/html": [
       "<html><script type=\"math/tex; mode=display\">\\newcommand{\\Bold}[1]{\\mathbf{#1}}K_{1} x^{2} + K_{2} x</script></html>"
      ],
      "text/plain": [
       "_K1*x^2 + _K2*x"
      ]
     },
     "metadata": {},
     "output_type": "display_data"
    }
   ],
   "source": [
    "#solutia generala\n",
    "sol_implicit = desolve(eqd, y)\n",
    "show(sol_implicit)"
   ]
  },
  {
   "cell_type": "code",
   "execution_count": 12,
   "metadata": {},
   "outputs": [
    {
     "data": {
      "text/html": [
       "<html><script type=\"math/tex; mode=display\">\\newcommand{\\Bold}[1]{\\mathbf{#1}}x^{2} + x</script></html>"
      ],
      "text/plain": [
       "x^2 + x"
      ]
     },
     "metadata": {},
     "output_type": "display_data"
    }
   ],
   "source": [
    "#sol care satisface cele 2 conditii(al 2-lea nr e pt y si al 3-lea pt y')\n",
    "sol_implicit = desolve(eqd, y, ics = [1, 2, 3])\n",
    "show(sol_implicit)"
   ]
  },
  {
   "cell_type": "code",
   "execution_count": 13,
   "metadata": {},
   "outputs": [
    {
     "data": {
      "image/png": "[encoded data removed]",
      "text/plain": [
       "Graphics object consisting of 1 graphics primitive"
      ]
     },
     "execution_count": 13,
     "metadata": {},
     "output_type": "execute_result"
    }
   ],
   "source": [
    "#graficul\n",
    "plot(sol_implicit, x,-2, 2)"
   ]
  },
  {
   "cell_type": "code",
   "execution_count": 14,
   "metadata": {},
   "outputs": [],
   "source": [
    "#3\n",
    "#initializez\n",
    "reset()\n",
    "t=var('t')\n",
    "x=function('x')(t)"
   ]
  },
  {
   "cell_type": "code",
   "execution_count": 15,
   "metadata": {},
   "outputs": [
    {
     "data": {
      "text/html": [
       "<html><script type=\"math/tex; mode=display\">\\newcommand{\\Bold}[1]{\\mathbf{#1}}-s^{3} + s^{2} + 2 \\, s</script></html>"
      ],
      "text/plain": [
       "-s^3 + s^2 + 2*s"
      ]
     },
     "metadata": {},
     "output_type": "display_data"
    }
   ],
   "source": [
    "#acriu ecuatia autonoma\n",
    "s=var('s')\n",
    "f=function('f')(s)\n",
    "f(s)=-s^3+s^2+2*s\n",
    "show(f(s))"
   ]
  },
  {
   "cell_type": "code",
   "execution_count": 16,
   "metadata": {},
   "outputs": [
    {
     "data": {
      "text/html": [
       "<html><script type=\"math/tex; mode=display\">\\newcommand{\\Bold}[1]{\\mathbf{#1}}\\left[s = 2, s = \\left(-1\\right), s = 0\\right]</script></html>"
      ],
      "text/plain": [
       "[s == 2, s == -1, s == 0]"
      ]
     },
     "metadata": {},
     "output_type": "display_data"
    }
   ],
   "source": [
    "#aflu punctele de echilibru\n",
    "sol=solve(f(s)==0,s)\n",
    "show(sol)"
   ]
  },
  {
   "cell_type": "code",
   "execution_count": 17,
   "metadata": {},
   "outputs": [],
   "source": [
    "#cum aflu stabilitatea???"
   ]
  },
  {
   "cell_type": "code",
   "execution_count": 18,
   "metadata": {},
   "outputs": [],
   "source": [
    "#cum fac graficul???"
   ]
  },
  {
   "cell_type": "code",
   "execution_count": 19,
   "metadata": {},
   "outputs": [],
   "source": [
    "#4\n",
    "#initializez\n",
    "t=var('t')\n",
    "x=function('x')(t)\n",
    "y=function('y')(t)"
   ]
  },
  {
   "cell_type": "code",
   "execution_count": 27,
   "metadata": {},
   "outputs": [
    {
     "data": {
      "text/html": [
       "<html><script type=\"math/tex; mode=display\">\\newcommand{\\Bold}[1]{\\mathbf{#1}}\\left[\\frac{\\partial}{\\partial t}x\\left(t\\right) = 9 \\, x\\left(t\\right) + 21 \\, y\\left(t\\right), \\frac{\\partial}{\\partial t}y\\left(t\\right) = -2 \\, x\\left(t\\right) - 4 \\, y\\left(t\\right)\\right]</script></html>"
      ],
      "text/plain": [
       "[diff(x(t), t) == 9*x(t) + 21*y(t), diff(y(t), t) == -2*x(t) - 4*y(t)]"
      ]
     },
     "metadata": {},
     "output_type": "display_data"
    }
   ],
   "source": [
    "#scriem sistemul de ecuatii\n",
    "eq1 = diff(x, t) == 9*x+21*y\n",
    "eq2 = diff(y, t) == -2*x-4*y\n",
    "syst=[eq1, eq2]\n",
    "show(syst)"
   ]
  },
  {
   "cell_type": "code",
   "execution_count": 28,
   "metadata": {},
   "outputs": [
    {
     "data": {
      "text/html": [
       "<html><script type=\"math/tex; mode=display\">\\newcommand{\\Bold}[1]{\\mathbf{#1}}\\left[x\\left(t\\right) = 7 \\, {\\left(C_{1} + 3 \\, C_{2}\\right)} e^{\\left(3 \\, t\\right)} - 3 \\, {\\left(2 \\, C_{1} + 7 \\, C_{2}\\right)} e^{\\left(2 \\, t\\right)}, y\\left(t\\right) = -2 \\, {\\left(C_{1} + 3 \\, C_{2}\\right)} e^{\\left(3 \\, t\\right)} + {\\left(2 \\, C_{1} + 7 \\, C_{2}\\right)} e^{\\left(2 \\, t\\right)}\\right]</script></html>"
      ],
      "text/plain": [
       "[x(t) == 7*(C1 + 3*C2)*e^(3*t) - 3*(2*C1 + 7*C2)*e^(2*t),\n",
       " y(t) == -2*(C1 + 3*C2)*e^(3*t) + (2*C1 + 7*C2)*e^(2*t)]"
      ]
     },
     "metadata": {},
     "output_type": "display_data"
    }
   ],
   "source": [
    "#a\n",
    "#aflam solutia generala\n",
    "sol = desolve_system(syst, [x,y])\n",
    "C1,C2=var('C1,C2')\n",
    "sol_const = desolve_system(syst, [x,y], ics=[0, C1, C2])\n",
    "show(sol_const)"
   ]
  },
  {
   "cell_type": "code",
   "execution_count": 29,
   "metadata": {},
   "outputs": [
    {
     "data": {
      "text/html": [
       "<html><script type=\"math/tex; mode=display\">\\newcommand{\\Bold}[1]{\\mathbf{#1}}\\left[x\\left(t\\right) = 119 \\, e^{\\left(3 \\, t\\right)} - 117 \\, e^{\\left(2 \\, t\\right)}, y\\left(t\\right) = -34 \\, e^{\\left(3 \\, t\\right)} + 39 \\, e^{\\left(2 \\, t\\right)}\\right]</script></html>"
      ],
      "text/plain": [
       "[x(t) == 119*e^(3*t) - 117*e^(2*t), y(t) == -34*e^(3*t) + 39*e^(2*t)]"
      ]
     },
     "metadata": {},
     "output_type": "display_data"
    }
   ],
   "source": [
    "#b\n",
    "#dam valori celor 2 constante\n",
    "sol = desolve_system(syst, [x,y], ics=[0, 2,5])\n",
    "show(sol)"
   ]
  },
  {
   "cell_type": "code",
   "execution_count": null,
   "metadata": {},
   "outputs": [],
   "source": []
  }
 ],
 "metadata": {
  "kernelspec": {
   "display_name": "SageMath 9.1",
   "language": "sage",
   "name": "sagemath"
  },
  "language_info": {
   "codemirror_mode": {
    "name": "ipython",
    "version": 3
   },
   "file_extension": ".py",
   "mimetype": "text/x-python",
   "name": "python",
   "nbconvert_exporter": "python",
   "pygments_lexer": "ipython3",
   "version": "3.7.3"
  }
 },
 "nbformat": 4,
 "nbformat_minor": 2
}
