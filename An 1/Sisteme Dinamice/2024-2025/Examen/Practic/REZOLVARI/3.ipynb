{
 "cells": [
  {
   "cell_type": "code",
   "execution_count": 3,
   "metadata": {},
   "outputs": [
    {
     "data": {
      "text/html": [
       "<html><script type=\"math/tex; mode=display\">\\newcommand{\\Bold}[1]{\\mathbf{#1}}\\left( a, b \\right) \\ {\\mapsto} \\ a b - 1</script></html>"
      ],
      "text/plain": [
       "(a, b) |--> a*b - 1"
      ]
     },
     "metadata": {},
     "output_type": "display_data"
    },
    {
     "data": {
      "text/html": [
       "<html><script type=\"math/tex; mode=display\">\\newcommand{\\Bold}[1]{\\mathbf{#1}}\\left( a, b \\right) \\ {\\mapsto} \\ a^{2} - 16 \\, b^{2}</script></html>"
      ],
      "text/plain": [
       "(a, b) |--> a^2 - 16*b^2"
      ]
     },
     "metadata": {},
     "output_type": "display_data"
    }
   ],
   "source": [
    "#initializare ecuatii\n",
    "reset()\n",
    "t=var('t')\n",
    "x=function('x')(t)\n",
    "y=function('y')(t)\n",
    "a,b=var('a,b')\n",
    "f1(a,b)=a*b-1\n",
    "f2(a,b)=a^2-16*b^2\n",
    "show(f1)\n",
    "show(f2)"
   ]
  },
  {
   "cell_type": "code",
   "execution_count": 8,
   "metadata": {},
   "outputs": [
    {
     "data": {
      "text/html": [
       "<html><script type=\"math/tex; mode=display\">\\newcommand{\\Bold}[1]{\\mathbf{#1}}\\left[\\left[a = \\left(-2 i\\right), b = \\left(\\frac{1}{2} i\\right)\\right], \\left[a = \\left(2 i\\right), b = \\left(-\\frac{1}{2} i\\right)\\right], \\left[a = 2, b = \\left(\\frac{1}{2}\\right)\\right], \\left[a = \\left(-2\\right), b = \\left(-\\frac{1}{2}\\right)\\right]\\right]</script></html>"
      ],
      "text/plain": [
       "[[a == (-2*I), b == (1/2*I)], [a == (2*I), b == (-1/2*I)], [a == 2, b == (1/2)], [a == -2, b == (-1/2)]]"
      ]
     },
     "metadata": {},
     "output_type": "display_data"
    }
   ],
   "source": [
    "#a\n",
    "#det punctele de echilibru\n",
    "eq1=f1(a,b)==0\n",
    "eq2=f2(a,b)==0\n",
    "syst=[eq1,eq2]\n",
    "sol=solve(syst,a,b)\n",
    "show(sol)"
   ]
  },
  {
   "cell_type": "code",
   "execution_count": 15,
   "metadata": {},
   "outputs": [
    {
     "data": {
      "text/html": [
       "<html><script type=\"math/tex; mode=display\">\\newcommand{\\Bold}[1]{\\mathbf{#1}}\\left(\\begin{array}{rr}\n",
       "b & a \\\\\n",
       "2 \\, a & -32 \\, b\n",
       "\\end{array}\\right)</script></html>"
      ],
      "text/plain": [
       "[    b     a]\n",
       "[  2*a -32*b]"
      ]
     },
     "metadata": {},
     "output_type": "display_data"
    },
    {
     "data": {
      "text/html": [
       "<html><script type=\"math/tex; mode=display\">\\newcommand{\\Bold}[1]{\\mathbf{#1}}\\left(\\begin{array}{rr}\n",
       "\\frac{1}{2} & 2 \\\\\n",
       "4 & -16\n",
       "\\end{array}\\right)</script></html>"
      ],
      "text/plain": [
       "[1/2   2]\n",
       "[  4 -16]"
      ]
     },
     "metadata": {},
     "output_type": "display_data"
    },
    {
     "data": {
      "text/html": [
       "<html><script type=\"math/tex; mode=display\">\\newcommand{\\Bold}[1]{\\mathbf{#1}}\\left[-\\frac{1}{4} \\, \\sqrt{1217} - \\frac{31}{4}, \\frac{1}{4} \\, \\sqrt{1217} - \\frac{31}{4}\\right]</script></html>"
      ],
      "text/plain": [
       "[-1/4*sqrt(1217) - 31/4, 1/4*sqrt(1217) - 31/4]"
      ]
     },
     "metadata": {},
     "output_type": "display_data"
    },
    {
     "data": {
      "text/html": [
       "<html><script type=\"math/tex; mode=display\">\\newcommand{\\Bold}[1]{\\mathbf{#1}}-16.4713817712562</script></html>"
      ],
      "text/plain": [
       "-16.4713817712562"
      ]
     },
     "metadata": {},
     "output_type": "display_data"
    },
    {
     "data": {
      "text/html": [
       "<html><script type=\"math/tex; mode=display\">\\newcommand{\\Bold}[1]{\\mathbf{#1}}0.971381771256205</script></html>"
      ],
      "text/plain": [
       "0.971381771256205"
      ]
     },
     "metadata": {},
     "output_type": "display_data"
    },
    {
     "data": {
      "text/html": [
       "<html><script type=\"math/tex; mode=display\">\\newcommand{\\Bold}[1]{\\mathbf{#1}}\\left[-\\frac{1}{4} i \\, \\sqrt{1217} - \\frac{31}{4} i, \\frac{1}{4} i \\, \\sqrt{1217} - \\frac{31}{4} i\\right]</script></html>"
      ],
      "text/plain": [
       "[-1/4*I*sqrt(1217) - 31/4*I, 1/4*I*sqrt(1217) - 31/4*I]"
      ]
     },
     "metadata": {},
     "output_type": "display_data"
    }
   ],
   "source": [
    "#b\n",
    "#scriem matricea Jacobi\n",
    "J=jacobian((f1(a,b),f2(a,b)),[a,b])\n",
    "show(J)\n",
    "\n",
    "#matricea Jacobi pt fiecare pct de ech determinat\n",
    "show(J(a=2,b=1/2))\n",
    "\n",
    "#calculez valorile proprii\n",
    "valori_proprii=J(a=2,b=1/2).eigenvalues()\n",
    "show(valori_proprii)\n",
    "\n",
    "#trag concluzii\n",
    "show(numerical_approx(valori_proprii[0]))\n",
    "show(numerical_approx(valori_proprii[1]))\n",
    "#<0 si >0 =>instabil, punct sa"
   ]
  },
  {
   "cell_type": "code",
   "execution_count": 2,
   "metadata": {},
   "outputs": [],
   "source": [
    "#poz,neg=>instabil\n",
    "#daca sunt ambele negative e local stabil\n",
    "#daca sunt ambele negative strict e asimptotic stabil\n",
    "\n",
    "#nr reale\n",
    "#daca s1*s2<0 punct sa\n",
    "# >0 tip nod\n",
    "\n",
    "#nr complexe\n",
    "#daca am parte reala => alfa+-i*beta tip focus\n",
    "#daca alfa >0 instabil, <0 stabil\n",
    "#de tip centru daca nu am alfa, mereu stabil"
   ]
  },
  {
   "cell_type": "code",
   "execution_count": null,
   "metadata": {},
   "outputs": [],
   "source": []
  }
 ],
 "metadata": {
  "kernelspec": {
   "display_name": "SageMath 9.1",
   "language": "sage",
   "name": "sagemath"
  },
  "language_info": {
   "codemirror_mode": {
    "name": "ipython",
    "version": 3
   },
   "file_extension": ".py",
   "mimetype": "text/x-python",
   "name": "python",
   "nbconvert_exporter": "python",
   "pygments_lexer": "ipython3",
   "version": "3.7.3"
  }
 },
 "nbformat": 4,
 "nbformat_minor": 2
}
