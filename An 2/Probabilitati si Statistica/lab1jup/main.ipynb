{
 "cells": [
  {
   "cell_type": "code",
   "execution_count": 33,
   "id": "initial_id",
   "metadata": {
    "collapsed": true,
    "ExecuteTime": {
     "end_time": "2023-10-11T09:40:29.602009500Z",
     "start_time": "2023-10-11T09:40:29.555743200Z"
    }
   },
   "outputs": [],
   "source": [
    "from random import sample\n",
    "from math import factorial\n",
    "from itertools import permutations"
   ]
  },
  {
   "cell_type": "code",
   "execution_count": 34,
   "outputs": [],
   "source": [
    "def perm(cuv = \"word\"):\n",
    "    for item in list(permutations(cuv)):\n",
    "        print(item)"
   ],
   "metadata": {
    "collapsed": false,
    "ExecuteTime": {
     "end_time": "2023-10-11T09:40:29.603296200Z",
     "start_time": "2023-10-11T09:40:29.571394200Z"
    }
   },
   "id": "3d8948a2c90c90ad"
  },
  {
   "cell_type": "code",
   "execution_count": 35,
   "outputs": [],
   "source": [
    "def nr(cuv= \"word\"):\n",
    "    print(factorial(len(cuv)))"
   ],
   "metadata": {
    "collapsed": false,
    "ExecuteTime": {
     "end_time": "2023-10-11T09:40:29.614549300Z",
     "start_time": "2023-10-11T09:40:29.590477100Z"
    }
   },
   "id": "2322330b581a1b7"
  },
  {
   "cell_type": "code",
   "execution_count": 36,
   "outputs": [],
   "source": [
    "def rand(cuv=\"word\"):\n",
    "    print(sample(cuv, len(cuv)))"
   ],
   "metadata": {
    "collapsed": false,
    "ExecuteTime": {
     "end_time": "2023-10-11T09:40:29.626802600Z",
     "start_time": "2023-10-11T09:40:29.608758Z"
    }
   },
   "id": "7728b3c0c17988c0"
  },
  {
   "cell_type": "code",
   "execution_count": 37,
   "outputs": [
    {
     "name": "stdout",
     "output_type": "stream",
     "text": [
      "Permutarile cuvantului word sunt:\n",
      "('w', 'o', 'r', 'd')\n",
      "('w', 'o', 'd', 'r')\n",
      "('w', 'r', 'o', 'd')\n",
      "('w', 'r', 'd', 'o')\n",
      "('w', 'd', 'o', 'r')\n",
      "('w', 'd', 'r', 'o')\n",
      "('o', 'w', 'r', 'd')\n",
      "('o', 'w', 'd', 'r')\n",
      "('o', 'r', 'w', 'd')\n",
      "('o', 'r', 'd', 'w')\n",
      "('o', 'd', 'w', 'r')\n",
      "('o', 'd', 'r', 'w')\n",
      "('r', 'w', 'o', 'd')\n",
      "('r', 'w', 'd', 'o')\n",
      "('r', 'o', 'w', 'd')\n",
      "('r', 'o', 'd', 'w')\n",
      "('r', 'd', 'w', 'o')\n",
      "('r', 'd', 'o', 'w')\n",
      "('d', 'w', 'o', 'r')\n",
      "('d', 'w', 'r', 'o')\n",
      "('d', 'o', 'w', 'r')\n",
      "('d', 'o', 'r', 'w')\n",
      "('d', 'r', 'w', 'o')\n",
      "('d', 'r', 'o', 'w')\n",
      "Numarul de permutari este:\n",
      "24\n",
      "O permutare random este:\n",
      "['d', 'w', 'o', 'r']\n"
     ]
    }
   ],
   "source": [
    "print(\"Permutarile cuvantului word sunt:\")\n",
    "perm()\n",
    "print(\"Numarul de permutari este:\")\n",
    "nr()\n",
    "print(\"O permutare random este:\")\n",
    "rand()"
   ],
   "metadata": {
    "collapsed": false,
    "ExecuteTime": {
     "end_time": "2023-10-11T09:40:29.791822Z",
     "start_time": "2023-10-11T09:40:29.626802600Z"
    }
   },
   "id": "b194f5d9ffae2bd7"
  },
  {
   "cell_type": "code",
   "execution_count": 37,
   "outputs": [],
   "source": [],
   "metadata": {
    "collapsed": false,
    "ExecuteTime": {
     "end_time": "2023-10-11T09:40:29.791822Z",
     "start_time": "2023-10-11T09:40:29.762641100Z"
    }
   },
   "id": "de38c24ac0cbecc"
  }
 ],
 "metadata": {
  "kernelspec": {
   "display_name": "Python 3",
   "language": "python",
   "name": "python3"
  },
  "language_info": {
   "codemirror_mode": {
    "name": "ipython",
    "version": 2
   },
   "file_extension": ".py",
   "mimetype": "text/x-python",
   "name": "python",
   "nbconvert_exporter": "python",
   "pygments_lexer": "ipython2",
   "version": "2.7.6"
  }
 },
 "nbformat": 4,
 "nbformat_minor": 5
}
