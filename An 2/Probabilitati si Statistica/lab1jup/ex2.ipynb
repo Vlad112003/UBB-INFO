{
 "cells": [
  {
   "cell_type": "code",
   "execution_count": 1,
   "id": "initial_id",
   "metadata": {
    "collapsed": true,
    "ExecuteTime": {
     "end_time": "2023-10-11T09:42:49.468240900Z",
     "start_time": "2023-10-11T09:42:49.455752100Z"
    }
   },
   "outputs": [],
   "source": [
    "from random import sample\n",
    "from math import perm, comb\n",
    "from itertools import permutations, combinations"
   ]
  },
  {
   "cell_type": "code",
   "execution_count": 116,
   "outputs": [],
   "source": [
    "def aranjamente(word, numar, numar_total=False, aleator=False):\n",
    "    perm=permutations(word, numar)\n",
    "    if(numar_total == True):\n",
    "        numar = len(list(perm))\n",
    "        print(numar)\n",
    "    elif(aleator == True):\n",
    "        rand = sample(list(perm), len(list(perm))+1)\n",
    "        print(rand)\n",
    "    else:\n",
    "        for item in list(perm):\n",
    "            print(item)\n",
    "        "
   ],
   "metadata": {
    "collapsed": false,
    "ExecuteTime": {
     "end_time": "2023-10-11T10:10:57.919370500Z",
     "start_time": "2023-10-11T10:10:57.912077800Z"
    }
   },
   "id": "84e79a0524c95c1f"
  },
  {
   "cell_type": "code",
   "execution_count": 117,
   "outputs": [
    {
     "name": "stdout",
     "output_type": "stream",
     "text": [
      "('w', 'o')\n",
      "('w', 'r')\n",
      "('w', 'd')\n",
      "('o', 'w')\n",
      "('o', 'r')\n",
      "('o', 'd')\n",
      "('r', 'w')\n",
      "('r', 'o')\n",
      "('r', 'd')\n",
      "('d', 'w')\n",
      "('d', 'o')\n",
      "('d', 'r')\n"
     ]
    }
   ],
   "source": [
    "aranjamente(\"word\", 2)"
   ],
   "metadata": {
    "collapsed": false,
    "ExecuteTime": {
     "end_time": "2023-10-11T10:11:00.199486Z",
     "start_time": "2023-10-11T10:11:00.186550900Z"
    }
   },
   "id": "123dfff25711ad67"
  },
  {
   "cell_type": "code",
   "execution_count": 118,
   "outputs": [
    {
     "name": "stdout",
     "output_type": "stream",
     "text": [
      "12\n"
     ]
    }
   ],
   "source": [
    "aranjamente(\"word\", 2, numar_total=True)"
   ],
   "metadata": {
    "collapsed": false,
    "ExecuteTime": {
     "end_time": "2023-10-11T10:11:01.838779100Z",
     "start_time": "2023-10-11T10:11:01.807464300Z"
    }
   },
   "id": "861268495b05a23"
  },
  {
   "cell_type": "code",
   "execution_count": 120,
   "outputs": [
    {
     "name": "stdout",
     "output_type": "stream",
     "text": [
      "[('d', 'o')]\n"
     ]
    }
   ],
   "source": [
    "aranjamente(\"word\", 2, aleator=True)"
   ],
   "metadata": {
    "collapsed": false,
    "ExecuteTime": {
     "end_time": "2023-10-11T10:11:04.894487200Z",
     "start_time": "2023-10-11T10:11:04.878041700Z"
    }
   },
   "id": "e87974cd1499c7f4"
  },
  {
   "cell_type": "code",
   "execution_count": 130,
   "outputs": [],
   "source": [
    "from random import randint\n",
    "def combinari(word, numar, numar_total=False, aleator=False):\n",
    "    comb=list(combinations(word, numar))\n",
    "    if(numar_total == True):\n",
    "        numar = len(comb)\n",
    "        print(numar)\n",
    "    elif(aleator == True):\n",
    "        poz = randint(0, len(comb)-1)\n",
    "        #print(poz)\n",
    "        #print(len(comb))\n",
    "        rand = comb[poz]\n",
    "        print(rand)\n",
    "    else:\n",
    "        for item in comb:\n",
    "            print(item)"
   ],
   "metadata": {
    "collapsed": false,
    "ExecuteTime": {
     "end_time": "2023-10-11T10:32:44.058085700Z",
     "start_time": "2023-10-11T10:32:44.047293300Z"
    }
   },
   "id": "2ea3dca78c3917a2"
  },
  {
   "cell_type": "code",
   "execution_count": 134,
   "outputs": [
    {
     "name": "stdout",
     "output_type": "stream",
     "text": [
      "('w', 'o')\n",
      "('w', 'r')\n",
      "('w', 'd')\n",
      "('o', 'r')\n",
      "('o', 'd')\n",
      "('r', 'd')\n"
     ]
    }
   ],
   "source": [
    "combinari(\"word\", 2)"
   ],
   "metadata": {
    "collapsed": false,
    "ExecuteTime": {
     "end_time": "2023-10-11T10:34:11.071811400Z",
     "start_time": "2023-10-11T10:34:11.054908100Z"
    }
   },
   "id": "3316dc42a7e27791"
  },
  {
   "cell_type": "code",
   "execution_count": 138,
   "outputs": [
    {
     "name": "stdout",
     "output_type": "stream",
     "text": [
      "6\n"
     ]
    }
   ],
   "source": [
    "combinari(\"word\", 2, numar_total=True)"
   ],
   "metadata": {
    "collapsed": false,
    "ExecuteTime": {
     "end_time": "2023-10-11T10:34:24.303470600Z",
     "start_time": "2023-10-11T10:34:24.286527400Z"
    }
   },
   "id": "463915d716b3478b"
  },
  {
   "cell_type": "markdown",
   "source": [],
   "metadata": {
    "collapsed": false
   },
   "id": "c87297479ce3ec2a"
  },
  {
   "cell_type": "code",
   "execution_count": 131,
   "outputs": [
    {
     "name": "stdout",
     "output_type": "stream",
     "text": [
      "('r', 'd')\n"
     ]
    }
   ],
   "source": [
    "combinari(\"word\", 2, aleator=True)"
   ],
   "metadata": {
    "collapsed": false,
    "ExecuteTime": {
     "end_time": "2023-10-11T10:32:49.877747500Z",
     "start_time": "2023-10-11T10:32:49.860345500Z"
    }
   },
   "id": "19869bd8749be1c7"
  },
  {
   "cell_type": "code",
   "execution_count": 58,
   "outputs": [],
   "source": [],
   "metadata": {
    "collapsed": false,
    "ExecuteTime": {
     "end_time": "2023-10-11T10:02:18.910208400Z",
     "start_time": "2023-10-11T10:02:18.896627200Z"
    }
   },
   "id": "7dbcd37dd2a083a7"
  }
 ],
 "metadata": {
  "kernelspec": {
   "display_name": "Python 3",
   "language": "python",
   "name": "python3"
  },
  "language_info": {
   "codemirror_mode": {
    "name": "ipython",
    "version": 2
   },
   "file_extension": ".py",
   "mimetype": "text/x-python",
   "name": "python",
   "nbconvert_exporter": "python",
   "pygments_lexer": "ipython2",
   "version": "2.7.6"
  }
 },
 "nbformat": 4,
 "nbformat_minor": 5
}
